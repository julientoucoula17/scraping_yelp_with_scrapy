{
 "cells": [
  {
   "cell_type": "code",
   "execution_count": 1,
   "metadata": {
    "id": "PPsmYxwVBIAV"
   },
   "outputs": [
    {
     "name": "stdout",
     "output_type": "stream",
     "text": [
      "Requirement already satisfied: scrapy in /opt/conda/lib/python3.9/site-packages (2.6.1)\n",
      "Requirement already satisfied: parsel>=1.5.0 in /opt/conda/lib/python3.9/site-packages (from scrapy) (1.6.0)\n",
      "Requirement already satisfied: itemadapter>=0.1.0 in /opt/conda/lib/python3.9/site-packages (from scrapy) (0.5.0)\n",
      "Requirement already satisfied: cssselect>=0.9.1 in /opt/conda/lib/python3.9/site-packages (from scrapy) (1.1.0)\n",
      "Requirement already satisfied: zope.interface>=4.1.3 in /opt/conda/lib/python3.9/site-packages (from scrapy) (5.4.0)\n",
      "Requirement already satisfied: protego>=0.1.15 in /opt/conda/lib/python3.9/site-packages (from scrapy) (0.2.1)\n",
      "Requirement already satisfied: queuelib>=1.4.2 in /opt/conda/lib/python3.9/site-packages (from scrapy) (1.6.2)\n",
      "Requirement already satisfied: pyOpenSSL>=16.2.0 in /opt/conda/lib/python3.9/site-packages (from scrapy) (22.0.0)\n",
      "Requirement already satisfied: w3lib>=1.17.0 in /opt/conda/lib/python3.9/site-packages (from scrapy) (1.22.0)\n",
      "Requirement already satisfied: tldextract in /opt/conda/lib/python3.9/site-packages (from scrapy) (3.2.1)\n",
      "Requirement already satisfied: itemloaders>=1.0.1 in /opt/conda/lib/python3.9/site-packages (from scrapy) (1.0.4)\n",
      "Requirement already satisfied: setuptools in /opt/conda/lib/python3.9/site-packages (from scrapy) (59.8.0)\n",
      "Requirement already satisfied: Twisted>=17.9.0 in /opt/conda/lib/python3.9/site-packages (from scrapy) (22.4.0)\n",
      "Requirement already satisfied: service-identity>=16.0.0 in /opt/conda/lib/python3.9/site-packages (from scrapy) (21.1.0)\n",
      "Requirement already satisfied: lxml>=3.5.0 in /opt/conda/lib/python3.9/site-packages (from scrapy) (4.8.0)\n",
      "Requirement already satisfied: cryptography>=2.0 in /opt/conda/lib/python3.9/site-packages (from scrapy) (36.0.1)\n",
      "Requirement already satisfied: PyDispatcher>=2.0.5 in /opt/conda/lib/python3.9/site-packages (from scrapy) (2.0.5)\n",
      "Requirement already satisfied: cffi>=1.12 in /opt/conda/lib/python3.9/site-packages (from cryptography>=2.0->scrapy) (1.15.0)\n",
      "Requirement already satisfied: jmespath>=0.9.5 in /opt/conda/lib/python3.9/site-packages (from itemloaders>=1.0.1->scrapy) (1.0.0)\n",
      "Requirement already satisfied: six>=1.6.0 in /opt/conda/lib/python3.9/site-packages (from parsel>=1.5.0->scrapy) (1.16.0)\n",
      "Requirement already satisfied: pyasn1 in /opt/conda/lib/python3.9/site-packages (from service-identity>=16.0.0->scrapy) (0.4.8)\n",
      "Requirement already satisfied: attrs>=19.1.0 in /opt/conda/lib/python3.9/site-packages (from service-identity>=16.0.0->scrapy) (21.4.0)\n",
      "Requirement already satisfied: pyasn1-modules in /opt/conda/lib/python3.9/site-packages (from service-identity>=16.0.0->scrapy) (0.2.8)\n",
      "Requirement already satisfied: hyperlink>=17.1.1 in /opt/conda/lib/python3.9/site-packages (from Twisted>=17.9.0->scrapy) (21.0.0)\n",
      "Requirement already satisfied: Automat>=0.8.0 in /opt/conda/lib/python3.9/site-packages (from Twisted>=17.9.0->scrapy) (20.2.0)\n",
      "Requirement already satisfied: constantly>=15.1 in /opt/conda/lib/python3.9/site-packages (from Twisted>=17.9.0->scrapy) (15.1.0)\n",
      "Requirement already satisfied: typing-extensions>=3.6.5 in /opt/conda/lib/python3.9/site-packages (from Twisted>=17.9.0->scrapy) (4.0.1)\n",
      "Requirement already satisfied: incremental>=21.3.0 in /opt/conda/lib/python3.9/site-packages (from Twisted>=17.9.0->scrapy) (21.3.0)\n",
      "Requirement already satisfied: filelock>=3.0.8 in /opt/conda/lib/python3.9/site-packages (from tldextract->scrapy) (3.6.0)\n",
      "Requirement already satisfied: requests>=2.1.0 in /opt/conda/lib/python3.9/site-packages (from tldextract->scrapy) (2.27.1)\n",
      "Requirement already satisfied: idna in /opt/conda/lib/python3.9/site-packages (from tldextract->scrapy) (3.3)\n",
      "Requirement already satisfied: requests-file>=1.4 in /opt/conda/lib/python3.9/site-packages (from tldextract->scrapy) (1.5.1)\n",
      "Requirement already satisfied: pycparser in /opt/conda/lib/python3.9/site-packages (from cffi>=1.12->cryptography>=2.0->scrapy) (2.21)\n",
      "Requirement already satisfied: urllib3<1.27,>=1.21.1 in /opt/conda/lib/python3.9/site-packages (from requests>=2.1.0->tldextract->scrapy) (1.26.8)\n",
      "Requirement already satisfied: charset-normalizer~=2.0.0 in /opt/conda/lib/python3.9/site-packages (from requests>=2.1.0->tldextract->scrapy) (2.0.10)\n",
      "Requirement already satisfied: certifi>=2017.4.17 in /opt/conda/lib/python3.9/site-packages (from requests>=2.1.0->tldextract->scrapy) (2021.10.8)\n",
      "Note: you may need to restart the kernel to use updated packages.\n"
     ]
    }
   ],
   "source": [
    "pip install scrapy"
   ]
  },
  {
   "cell_type": "code",
   "execution_count": 1,
   "metadata": {
    "id": "kqRu3majBIAa"
   },
   "outputs": [],
   "source": [
    "# Import libraries\n",
    "import os\n",
    "import logging\n",
    "import scrapy\n",
    "from scrapy.crawler import CrawlerProcess\n",
    "\n",
    "\n",
    "def formatting_for_url(string):\n",
    "    return string.replace(\" \", \"+\")\n",
    "\n",
    "search_keywords = formatting_for_url(input(\"Please enter your search keywords : \"))\n",
    "search_location = formatting_for_url(input(\"Please enter the name of the city : \"))\n",
    "\n",
    "# Example manually entered keywords\n",
    "# search_keywords = \"restaurant+japonais\"\n",
    "# search_location = \"Bordeaux\""
   ]
  },
  {
   "cell_type": "code",
   "execution_count": 2,
   "metadata": {
    "id": "crQ26jkyBIAb"
   },
   "outputs": [],
   "source": [
    "class YelpSpider(scrapy.Spider):\n",
    "\n",
    "    # Name of your spider\n",
    "    name = \"yelp\"\n",
    "\n",
    "    # Url to start your spider from \n",
    "    start_urls = [\n",
    "        'https://www.yelp.fr/search?find_desc={}&find_loc={}'.format(search_keywords,search_location),\n",
    "    ]\n",
    "\n",
    "    def parse(self, response):\n",
    "        \n",
    "        paragraphs = response.css('a.css-1m051bw')\n",
    "        #page_number = response.css(' li > div > div > span.css-chan6m::text').getall()[0].split()[2]\n",
    "        \n",
    "        for p in paragraphs[3:]: \n",
    "            yield {\n",
    "                'text': p.css('::text').getall()\n",
    "            }\n",
    "        \n",
    "        try:\n",
    "            # Select the NEXT button and store it in next_page\n",
    "            next_page = response.css('a.next-link').attrib[\"href\"]\n",
    "        except KeyError:\n",
    "            # In the last page, there won't be any \"href\" and a KeyError will be raised\n",
    "            logging.info('No next page. Terminating crawling process.')\n",
    "        else:\n",
    "            # If a next page is found, execute the parse method once again\n",
    "            yield response.follow(next_page, callback=self.parse)\n",
    "            \n",
    "    "
   ]
  },
  {
   "cell_type": "code",
   "execution_count": 3,
   "metadata": {
    "id": "K8QITKNuBIAc"
   },
   "outputs": [
    {
     "name": "stderr",
     "output_type": "stream",
     "text": [
      "2022-04-17 02:31:13 [scrapy.utils.log] INFO: Scrapy 2.6.1 started (bot: scrapybot)\n",
      "2022-04-17 02:31:13 [scrapy.utils.log] INFO: Versions: lxml 4.6.3.0, libxml2 2.9.10, cssselect 1.1.0, parsel 1.6.0, w3lib 1.22.0, Twisted 22.4.0, Python 3.9.0 (v3.9.0:9cf6752276, Oct  5 2020, 11:29:23) - [Clang 6.0 (clang-600.0.57)], pyOpenSSL 22.0.0 (OpenSSL 1.1.1n  15 Mar 2022), cryptography 36.0.2, Platform macOS-10.16-x86_64-i386-64bit\n",
      "2022-04-17 02:31:13 [scrapy.crawler] INFO: Overridden settings:\n",
      "{'LOG_LEVEL': 20,\n",
      " 'USER_AGENT': 'Mozilla/4.0 (compatible; MSIE 7.0; Windows NT 5.1)'}\n",
      "2022-04-17 02:31:13 [scrapy.extensions.telnet] INFO: Telnet Password: ec35031f7834a279\n",
      "2022-04-17 02:31:13 [scrapy.middleware] INFO: Enabled extensions:\n",
      "['scrapy.extensions.corestats.CoreStats',\n",
      " 'scrapy.extensions.telnet.TelnetConsole',\n",
      " 'scrapy.extensions.memusage.MemoryUsage',\n",
      " 'scrapy.extensions.feedexport.FeedExporter',\n",
      " 'scrapy.extensions.logstats.LogStats']\n",
      "2022-04-17 02:31:13 [scrapy.middleware] INFO: Enabled downloader middlewares:\n",
      "['scrapy.downloadermiddlewares.httpauth.HttpAuthMiddleware',\n",
      " 'scrapy.downloadermiddlewares.downloadtimeout.DownloadTimeoutMiddleware',\n",
      " 'scrapy.downloadermiddlewares.defaultheaders.DefaultHeadersMiddleware',\n",
      " 'scrapy.downloadermiddlewares.useragent.UserAgentMiddleware',\n",
      " 'scrapy.downloadermiddlewares.retry.RetryMiddleware',\n",
      " 'scrapy.downloadermiddlewares.redirect.MetaRefreshMiddleware',\n",
      " 'scrapy.downloadermiddlewares.httpcompression.HttpCompressionMiddleware',\n",
      " 'scrapy.downloadermiddlewares.redirect.RedirectMiddleware',\n",
      " 'scrapy.downloadermiddlewares.cookies.CookiesMiddleware',\n",
      " 'scrapy.downloadermiddlewares.httpproxy.HttpProxyMiddleware',\n",
      " 'scrapy.downloadermiddlewares.stats.DownloaderStats']\n",
      "2022-04-17 02:31:13 [scrapy.middleware] INFO: Enabled spider middlewares:\n",
      "['scrapy.spidermiddlewares.httperror.HttpErrorMiddleware',\n",
      " 'scrapy.spidermiddlewares.offsite.OffsiteMiddleware',\n",
      " 'scrapy.spidermiddlewares.referer.RefererMiddleware',\n",
      " 'scrapy.spidermiddlewares.urllength.UrlLengthMiddleware',\n",
      " 'scrapy.spidermiddlewares.depth.DepthMiddleware']\n",
      "2022-04-17 02:31:13 [scrapy.middleware] INFO: Enabled item pipelines:\n",
      "[]\n",
      "2022-04-17 02:31:13 [scrapy.core.engine] INFO: Spider opened\n",
      "2022-04-17 02:31:14 [scrapy.extensions.logstats] INFO: Crawled 0 pages (at 0 pages/min), scraped 0 items (at 0 items/min)\n",
      "2022-04-17 02:31:14 [scrapy.extensions.telnet] INFO: Telnet console listening on 127.0.0.1:6023\n",
      "2022-04-17 02:31:27 [root] INFO: No next page. Terminating crawling process.\n",
      "2022-04-17 02:31:27 [scrapy.core.engine] INFO: Closing spider (finished)\n",
      "2022-04-17 02:31:27 [scrapy.extensions.feedexport] INFO: Stored json feed (66 items) in: results/salle+de+sport-bordeaux.json\n",
      "2022-04-17 02:31:27 [scrapy.statscollectors] INFO: Dumping Scrapy stats:\n",
      "{'downloader/request_bytes': 3209,\n",
      " 'downloader/request_count': 7,\n",
      " 'downloader/request_method_count/GET': 7,\n",
      " 'downloader/response_bytes': 344711,\n",
      " 'downloader/response_count': 7,\n",
      " 'downloader/response_status_count/200': 7,\n",
      " 'elapsed_time_seconds': 13.505435,\n",
      " 'feedexport/success_count/FileFeedStorage': 1,\n",
      " 'finish_reason': 'finished',\n",
      " 'finish_time': datetime.datetime(2022, 4, 17, 0, 31, 27, 590550),\n",
      " 'httpcompression/response_bytes': 2052624,\n",
      " 'httpcompression/response_count': 7,\n",
      " 'item_scraped_count': 66,\n",
      " 'log_count/INFO': 12,\n",
      " 'memusage/max': 106713088,\n",
      " 'memusage/startup': 106713088,\n",
      " 'request_depth_max': 6,\n",
      " 'response_received_count': 7,\n",
      " 'scheduler/dequeued': 7,\n",
      " 'scheduler/dequeued/memory': 7,\n",
      " 'scheduler/enqueued': 7,\n",
      " 'scheduler/enqueued/memory': 7,\n",
      " 'start_time': datetime.datetime(2022, 4, 17, 0, 31, 14, 85115)}\n",
      "2022-04-17 02:31:27 [scrapy.core.engine] INFO: Spider closed (finished)\n"
     ]
    }
   ],
   "source": [
    "# Result file\n",
    "filename = \"{}-{}.json\".format(search_keywords,search_location)\n",
    "\n",
    "# Declare a new CrawlerProcess \n",
    "process = CrawlerProcess(settings = {\n",
    "    'USER_AGENT': 'Mozilla/4.0 (compatible; MSIE 7.0; Windows NT 5.1)',\n",
    "    'LOG_LEVEL': logging.INFO,\n",
    "    \"FEEDS\": {\n",
    "        'results/' + filename : {\"format\": \"json\"},\n",
    "    }\n",
    "})\n",
    "\n",
    "# Start the crawling using the spider you defined above\n",
    "process.crawl(YelpSpider)\n",
    "process.start()"
   ]
  }
 ],
 "metadata": {
  "colab": {
   "name": "correction_scraping_wikipedia (2).ipynb",
   "provenance": []
  },
  "kernelspec": {
   "display_name": "Python 3 (ipykernel)",
   "language": "python",
   "name": "python3"
  },
  "language_info": {
   "codemirror_mode": {
    "name": "ipython",
    "version": 3
   },
   "file_extension": ".py",
   "mimetype": "text/x-python",
   "name": "python",
   "nbconvert_exporter": "python",
   "pygments_lexer": "ipython3",
   "version": "3.9.0"
  }
 },
 "nbformat": 4,
 "nbformat_minor": 4
}
